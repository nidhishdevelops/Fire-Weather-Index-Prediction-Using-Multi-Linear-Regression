{
 "cells": [
  {
   "metadata": {},
   "cell_type": "markdown",
   "source": "## __Algerian Forest Dataset__",
   "id": "54bc9e2617b2fa11"
  },
  {
   "metadata": {},
   "cell_type": "markdown",
   "source": [
    "#### - Nidhish Sonavale\n",
    "#### - Linkedin: www.linkedin.com/in/nidhishsonavale\n",
    "#### - Work Mail: sonavalenidhish14@gmail.com"
   ],
   "id": "6aaea898476bf6a1"
  },
  {
   "metadata": {},
   "cell_type": "markdown",
   "source": [
    "\n",
    "Data Set Information:\n",
    "\n",
    "The dataset includes 244 instances that regroup a data of two regions of Algeria,namely the Bejaia region located in the northeast of Algeria and the Sidi Bel-abbes region located in the northwest of Algeria.\n",
    "\n",
    "122 instances for each region.\n",
    "\n",
    "The period from June 2012 to September 2012.\n",
    "The dataset includes 11 attributes and 1 output attribute (Temperature)\n",
    "\n",
    "The 244 instances have been classified into fire(138 classes) and not fire (106 classes) classes."
   ],
   "id": "6d46410d6fb9e525"
  },
  {
   "metadata": {},
   "cell_type": "markdown",
   "source": [
    "Attribute Information:\n",
    "\n",
    "1. Date : (DD/MM/YYYY) Day, month ('june' to 'september'), year (2012)\n",
    "Weather data observations\n",
    "2. Temp : temperature noon (temperature max) in Celsius degrees: 22 to 42\n",
    "3. RH : Relative Humidity in %: 21 to 90\n",
    "4. Ws :Wind speed in km/h: 6 to 29\n",
    "5. Rain: total day in mm: 0 to 16.8\n",
    "FWI Components\n",
    "6. Fine Fuel Moisture Code (FFMC) index from the FWI system: 28.6 to 92.5\n",
    "7. Duff Moisture Code (DMC) index from the FWI system: 1.1 to 65.9\n",
    "8. Drought Code (DC) index from the FWI system: 7 to 220.4\n",
    "9. Initial Spread Index (ISI) index from the FWI system: 0 to 18.5\n",
    "10. Buildup Index (BUI) index from the FWI system: 1.1 to 68\n",
    "11. Fire Weather Index (FWI) Index: 0 to 31.1\n",
    "12. Classes: two classes, namely Fire and not Fire"
   ],
   "id": "987adaccf799154a"
  },
  {
   "metadata": {},
   "cell_type": "markdown",
   "source": "#### __Data Reading__",
   "id": "271937e4150252e7"
  },
  {
   "metadata": {
    "ExecuteTime": {
     "end_time": "2024-11-12T17:53:49.046424Z",
     "start_time": "2024-11-12T17:53:47.617903Z"
    }
   },
   "cell_type": "code",
   "source": [
    "import pandas as pd\n",
    "import numpy as np\n",
    "import matplotlib.pyplot as plt\n",
    "import seaborn as sns\n",
    "from streamlit.dataframe_util import fix_arrow_incompatible_column_types\n",
    "\n",
    "%matplotlib inline"
   ],
   "id": "323245768ac03f2",
   "outputs": [],
   "execution_count": 1
  },
  {
   "metadata": {
    "ExecuteTime": {
     "end_time": "2024-11-12T17:53:49.128248Z",
     "start_time": "2024-11-12T17:53:49.064666Z"
    }
   },
   "cell_type": "code",
   "source": [
    "df = pd.read_csv('algerianForest.csv',header=1)\n",
    "df.head()"
   ],
   "id": "b346f5b1a5c6647",
   "outputs": [
    {
     "data": {
      "text/plain": [
       "  day month  year Temperature  RH  Ws Rain   FFMC  DMC    DC  ISI  BUI  FWI  \\\n",
       "0  01    06  2012          29  57  18     0  65.7  3.4   7.6  1.3  3.4  0.5   \n",
       "1  02    06  2012          29  61  13   1.3  64.4  4.1   7.6    1  3.9  0.4   \n",
       "2  03    06  2012          26  82  22  13.1  47.1  2.5   7.1  0.3  2.7  0.1   \n",
       "3  04    06  2012          25  89  13   2.5  28.6  1.3   6.9    0  1.7    0   \n",
       "4  05    06  2012          27  77  16     0  64.8    3  14.2  1.2  3.9  0.5   \n",
       "\n",
       "     Classes    \n",
       "0  not fire     \n",
       "1  not fire     \n",
       "2  not fire     \n",
       "3  not fire     \n",
       "4  not fire     "
      ],
      "text/html": [
       "<div>\n",
       "<style scoped>\n",
       "    .dataframe tbody tr th:only-of-type {\n",
       "        vertical-align: middle;\n",
       "    }\n",
       "\n",
       "    .dataframe tbody tr th {\n",
       "        vertical-align: top;\n",
       "    }\n",
       "\n",
       "    .dataframe thead th {\n",
       "        text-align: right;\n",
       "    }\n",
       "</style>\n",
       "<table border=\"1\" class=\"dataframe\">\n",
       "  <thead>\n",
       "    <tr style=\"text-align: right;\">\n",
       "      <th></th>\n",
       "      <th>day</th>\n",
       "      <th>month</th>\n",
       "      <th>year</th>\n",
       "      <th>Temperature</th>\n",
       "      <th>RH</th>\n",
       "      <th>Ws</th>\n",
       "      <th>Rain</th>\n",
       "      <th>FFMC</th>\n",
       "      <th>DMC</th>\n",
       "      <th>DC</th>\n",
       "      <th>ISI</th>\n",
       "      <th>BUI</th>\n",
       "      <th>FWI</th>\n",
       "      <th>Classes</th>\n",
       "    </tr>\n",
       "  </thead>\n",
       "  <tbody>\n",
       "    <tr>\n",
       "      <th>0</th>\n",
       "      <td>01</td>\n",
       "      <td>06</td>\n",
       "      <td>2012</td>\n",
       "      <td>29</td>\n",
       "      <td>57</td>\n",
       "      <td>18</td>\n",
       "      <td>0</td>\n",
       "      <td>65.7</td>\n",
       "      <td>3.4</td>\n",
       "      <td>7.6</td>\n",
       "      <td>1.3</td>\n",
       "      <td>3.4</td>\n",
       "      <td>0.5</td>\n",
       "      <td>not fire</td>\n",
       "    </tr>\n",
       "    <tr>\n",
       "      <th>1</th>\n",
       "      <td>02</td>\n",
       "      <td>06</td>\n",
       "      <td>2012</td>\n",
       "      <td>29</td>\n",
       "      <td>61</td>\n",
       "      <td>13</td>\n",
       "      <td>1.3</td>\n",
       "      <td>64.4</td>\n",
       "      <td>4.1</td>\n",
       "      <td>7.6</td>\n",
       "      <td>1</td>\n",
       "      <td>3.9</td>\n",
       "      <td>0.4</td>\n",
       "      <td>not fire</td>\n",
       "    </tr>\n",
       "    <tr>\n",
       "      <th>2</th>\n",
       "      <td>03</td>\n",
       "      <td>06</td>\n",
       "      <td>2012</td>\n",
       "      <td>26</td>\n",
       "      <td>82</td>\n",
       "      <td>22</td>\n",
       "      <td>13.1</td>\n",
       "      <td>47.1</td>\n",
       "      <td>2.5</td>\n",
       "      <td>7.1</td>\n",
       "      <td>0.3</td>\n",
       "      <td>2.7</td>\n",
       "      <td>0.1</td>\n",
       "      <td>not fire</td>\n",
       "    </tr>\n",
       "    <tr>\n",
       "      <th>3</th>\n",
       "      <td>04</td>\n",
       "      <td>06</td>\n",
       "      <td>2012</td>\n",
       "      <td>25</td>\n",
       "      <td>89</td>\n",
       "      <td>13</td>\n",
       "      <td>2.5</td>\n",
       "      <td>28.6</td>\n",
       "      <td>1.3</td>\n",
       "      <td>6.9</td>\n",
       "      <td>0</td>\n",
       "      <td>1.7</td>\n",
       "      <td>0</td>\n",
       "      <td>not fire</td>\n",
       "    </tr>\n",
       "    <tr>\n",
       "      <th>4</th>\n",
       "      <td>05</td>\n",
       "      <td>06</td>\n",
       "      <td>2012</td>\n",
       "      <td>27</td>\n",
       "      <td>77</td>\n",
       "      <td>16</td>\n",
       "      <td>0</td>\n",
       "      <td>64.8</td>\n",
       "      <td>3</td>\n",
       "      <td>14.2</td>\n",
       "      <td>1.2</td>\n",
       "      <td>3.9</td>\n",
       "      <td>0.5</td>\n",
       "      <td>not fire</td>\n",
       "    </tr>\n",
       "  </tbody>\n",
       "</table>\n",
       "</div>"
      ]
     },
     "execution_count": 2,
     "metadata": {},
     "output_type": "execute_result"
    }
   ],
   "execution_count": 2
  },
  {
   "metadata": {
    "ExecuteTime": {
     "end_time": "2024-11-12T17:53:49.923167Z",
     "start_time": "2024-11-12T17:53:49.900859Z"
    }
   },
   "cell_type": "code",
   "source": [
    "## This Dataset is divided into 2 parts of both region\n",
    "## Therefore, we have to remove the separation rows and create a column indicating region\n",
    "df[df.isnull().any(axis=1)]"
   ],
   "id": "4d6920a48d3d06db",
   "outputs": [
    {
     "data": {
      "text/plain": [
       "                               day month  year Temperature   RH   Ws Rain   \\\n",
       "122  Sidi-Bel Abbes Region Dataset   NaN   NaN         NaN  NaN  NaN   NaN   \n",
       "167                             14    07  2012          37   37   18   0.2   \n",
       "\n",
       "     FFMC   DMC      DC   ISI   BUI      FWI Classes    \n",
       "122   NaN   NaN     NaN   NaN   NaN      NaN       NaN  \n",
       "167  88.9  12.9  14.6 9  12.5  10.4  fire          NaN  "
      ],
      "text/html": [
       "<div>\n",
       "<style scoped>\n",
       "    .dataframe tbody tr th:only-of-type {\n",
       "        vertical-align: middle;\n",
       "    }\n",
       "\n",
       "    .dataframe tbody tr th {\n",
       "        vertical-align: top;\n",
       "    }\n",
       "\n",
       "    .dataframe thead th {\n",
       "        text-align: right;\n",
       "    }\n",
       "</style>\n",
       "<table border=\"1\" class=\"dataframe\">\n",
       "  <thead>\n",
       "    <tr style=\"text-align: right;\">\n",
       "      <th></th>\n",
       "      <th>day</th>\n",
       "      <th>month</th>\n",
       "      <th>year</th>\n",
       "      <th>Temperature</th>\n",
       "      <th>RH</th>\n",
       "      <th>Ws</th>\n",
       "      <th>Rain</th>\n",
       "      <th>FFMC</th>\n",
       "      <th>DMC</th>\n",
       "      <th>DC</th>\n",
       "      <th>ISI</th>\n",
       "      <th>BUI</th>\n",
       "      <th>FWI</th>\n",
       "      <th>Classes</th>\n",
       "    </tr>\n",
       "  </thead>\n",
       "  <tbody>\n",
       "    <tr>\n",
       "      <th>122</th>\n",
       "      <td>Sidi-Bel Abbes Region Dataset</td>\n",
       "      <td>NaN</td>\n",
       "      <td>NaN</td>\n",
       "      <td>NaN</td>\n",
       "      <td>NaN</td>\n",
       "      <td>NaN</td>\n",
       "      <td>NaN</td>\n",
       "      <td>NaN</td>\n",
       "      <td>NaN</td>\n",
       "      <td>NaN</td>\n",
       "      <td>NaN</td>\n",
       "      <td>NaN</td>\n",
       "      <td>NaN</td>\n",
       "      <td>NaN</td>\n",
       "    </tr>\n",
       "    <tr>\n",
       "      <th>167</th>\n",
       "      <td>14</td>\n",
       "      <td>07</td>\n",
       "      <td>2012</td>\n",
       "      <td>37</td>\n",
       "      <td>37</td>\n",
       "      <td>18</td>\n",
       "      <td>0.2</td>\n",
       "      <td>88.9</td>\n",
       "      <td>12.9</td>\n",
       "      <td>14.6 9</td>\n",
       "      <td>12.5</td>\n",
       "      <td>10.4</td>\n",
       "      <td>fire</td>\n",
       "      <td>NaN</td>\n",
       "    </tr>\n",
       "  </tbody>\n",
       "</table>\n",
       "</div>"
      ]
     },
     "execution_count": 3,
     "metadata": {},
     "output_type": "execute_result"
    }
   ],
   "execution_count": 3
  },
  {
   "metadata": {
    "ExecuteTime": {
     "end_time": "2024-11-12T17:53:50.046910Z",
     "start_time": "2024-11-12T17:53:50.035488Z"
    }
   },
   "cell_type": "code",
   "source": [
    "#Since only 2 rows have null values, we will drop both the values\n",
    "df = df.dropna().reset_index(drop=True)"
   ],
   "id": "cd8b2539f604e36a",
   "outputs": [],
   "execution_count": 4
  },
  {
   "metadata": {
    "ExecuteTime": {
     "end_time": "2024-11-12T17:53:50.433103Z",
     "start_time": "2024-11-12T17:53:50.404685Z"
    }
   },
   "cell_type": "code",
   "source": "df.loc[[122]] #This row is not following the data,therefore drop it",
   "id": "547b8f6f64d93197",
   "outputs": [
    {
     "data": {
      "text/plain": [
       "     day  month  year  Temperature   RH   Ws  Rain   FFMC  DMC  DC  ISI  BUI  \\\n",
       "122  day  month  year  Temperature   RH   Ws  Rain   FFMC  DMC  DC  ISI  BUI   \n",
       "\n",
       "     FWI  Classes    \n",
       "122  FWI  Classes    "
      ],
      "text/html": [
       "<div>\n",
       "<style scoped>\n",
       "    .dataframe tbody tr th:only-of-type {\n",
       "        vertical-align: middle;\n",
       "    }\n",
       "\n",
       "    .dataframe tbody tr th {\n",
       "        vertical-align: top;\n",
       "    }\n",
       "\n",
       "    .dataframe thead th {\n",
       "        text-align: right;\n",
       "    }\n",
       "</style>\n",
       "<table border=\"1\" class=\"dataframe\">\n",
       "  <thead>\n",
       "    <tr style=\"text-align: right;\">\n",
       "      <th></th>\n",
       "      <th>day</th>\n",
       "      <th>month</th>\n",
       "      <th>year</th>\n",
       "      <th>Temperature</th>\n",
       "      <th>RH</th>\n",
       "      <th>Ws</th>\n",
       "      <th>Rain</th>\n",
       "      <th>FFMC</th>\n",
       "      <th>DMC</th>\n",
       "      <th>DC</th>\n",
       "      <th>ISI</th>\n",
       "      <th>BUI</th>\n",
       "      <th>FWI</th>\n",
       "      <th>Classes</th>\n",
       "    </tr>\n",
       "  </thead>\n",
       "  <tbody>\n",
       "    <tr>\n",
       "      <th>122</th>\n",
       "      <td>day</td>\n",
       "      <td>month</td>\n",
       "      <td>year</td>\n",
       "      <td>Temperature</td>\n",
       "      <td>RH</td>\n",
       "      <td>Ws</td>\n",
       "      <td>Rain</td>\n",
       "      <td>FFMC</td>\n",
       "      <td>DMC</td>\n",
       "      <td>DC</td>\n",
       "      <td>ISI</td>\n",
       "      <td>BUI</td>\n",
       "      <td>FWI</td>\n",
       "      <td>Classes</td>\n",
       "    </tr>\n",
       "  </tbody>\n",
       "</table>\n",
       "</div>"
      ]
     },
     "execution_count": 5,
     "metadata": {},
     "output_type": "execute_result"
    }
   ],
   "execution_count": 5
  },
  {
   "metadata": {
    "ExecuteTime": {
     "end_time": "2024-11-12T17:53:54.752178Z",
     "start_time": "2024-11-12T17:53:54.738683Z"
    }
   },
   "cell_type": "code",
   "source": "df =df.drop(122).reset_index(drop=True)",
   "id": "806ee97c945fc9c",
   "outputs": [],
   "execution_count": 6
  },
  {
   "metadata": {
    "ExecuteTime": {
     "end_time": "2024-11-12T17:53:55.769820Z",
     "start_time": "2024-11-12T17:53:55.760567Z"
    }
   },
   "cell_type": "code",
   "source": [
    "#Checking For null values\n",
    "df.isnull().sum()"
   ],
   "id": "845c7b89c2d454d8",
   "outputs": [
    {
     "data": {
      "text/plain": [
       "day            0\n",
       "month          0\n",
       "year           0\n",
       "Temperature    0\n",
       " RH            0\n",
       " Ws            0\n",
       "Rain           0\n",
       "FFMC           0\n",
       "DMC            0\n",
       "DC             0\n",
       "ISI            0\n",
       "BUI            0\n",
       "FWI            0\n",
       "Classes        0\n",
       "dtype: int64"
      ]
     },
     "execution_count": 7,
     "metadata": {},
     "output_type": "execute_result"
    }
   ],
   "execution_count": 7
  },
  {
   "metadata": {
    "ExecuteTime": {
     "end_time": "2024-11-12T17:53:57.779785Z",
     "start_time": "2024-11-12T17:53:57.774041Z"
    }
   },
   "cell_type": "code",
   "source": "df.columns",
   "id": "814607a9aec39b09",
   "outputs": [
    {
     "data": {
      "text/plain": [
       "Index(['day', 'month', 'year', 'Temperature', ' RH', ' Ws', 'Rain ', 'FFMC',\n",
       "       'DMC', 'DC', 'ISI', 'BUI', 'FWI', 'Classes  '],\n",
       "      dtype='object')"
      ]
     },
     "execution_count": 8,
     "metadata": {},
     "output_type": "execute_result"
    }
   ],
   "execution_count": 8
  },
  {
   "metadata": {
    "ExecuteTime": {
     "end_time": "2024-11-12T17:53:58.879570Z",
     "start_time": "2024-11-12T17:53:58.866521Z"
    }
   },
   "cell_type": "code",
   "source": [
    "## The columns in Dataset have uneven Spacing. Therefore, Stripping the unnecessary spaces\n",
    "df.columns = df.columns.str.strip()"
   ],
   "id": "972704fecd48964b",
   "outputs": [],
   "execution_count": 9
  },
  {
   "metadata": {
    "ExecuteTime": {
     "end_time": "2024-11-12T17:54:00.076584Z",
     "start_time": "2024-11-12T17:54:00.058029Z"
    }
   },
   "cell_type": "code",
   "source": "df.columns",
   "id": "d4fef7a2d82827df",
   "outputs": [
    {
     "data": {
      "text/plain": [
       "Index(['day', 'month', 'year', 'Temperature', 'RH', 'Ws', 'Rain', 'FFMC',\n",
       "       'DMC', 'DC', 'ISI', 'BUI', 'FWI', 'Classes'],\n",
       "      dtype='object')"
      ]
     },
     "execution_count": 10,
     "metadata": {},
     "output_type": "execute_result"
    }
   ],
   "execution_count": 10
  },
  {
   "metadata": {
    "ExecuteTime": {
     "end_time": "2024-11-12T17:54:00.896847Z",
     "start_time": "2024-11-12T17:54:00.886099Z"
    }
   },
   "cell_type": "code",
   "source": [
    "## Adding a Column \"Region\" to indicate both regions\n",
    "# 0 -> Bejaia region\n",
    "# 1 -> Sidi Bel-abbes region\n",
    "df.loc[:121,\"Region\"] = 0\n",
    "df.loc[122:,'Region'] = 1"
   ],
   "id": "ca0edfb43772fd6d",
   "outputs": [],
   "execution_count": 11
  },
  {
   "metadata": {
    "ExecuteTime": {
     "end_time": "2024-11-12T17:54:02.506805Z",
     "start_time": "2024-11-12T17:54:02.488362Z"
    }
   },
   "cell_type": "code",
   "source": "df.head()",
   "id": "850c867e261a6605",
   "outputs": [
    {
     "data": {
      "text/plain": [
       "  day month  year Temperature  RH  Ws  Rain  FFMC  DMC    DC  ISI  BUI  FWI  \\\n",
       "0  01    06  2012          29  57  18     0  65.7  3.4   7.6  1.3  3.4  0.5   \n",
       "1  02    06  2012          29  61  13   1.3  64.4  4.1   7.6    1  3.9  0.4   \n",
       "2  03    06  2012          26  82  22  13.1  47.1  2.5   7.1  0.3  2.7  0.1   \n",
       "3  04    06  2012          25  89  13   2.5  28.6  1.3   6.9    0  1.7    0   \n",
       "4  05    06  2012          27  77  16     0  64.8    3  14.2  1.2  3.9  0.5   \n",
       "\n",
       "       Classes  Region  \n",
       "0  not fire        0.0  \n",
       "1  not fire        0.0  \n",
       "2  not fire        0.0  \n",
       "3  not fire        0.0  \n",
       "4  not fire        0.0  "
      ],
      "text/html": [
       "<div>\n",
       "<style scoped>\n",
       "    .dataframe tbody tr th:only-of-type {\n",
       "        vertical-align: middle;\n",
       "    }\n",
       "\n",
       "    .dataframe tbody tr th {\n",
       "        vertical-align: top;\n",
       "    }\n",
       "\n",
       "    .dataframe thead th {\n",
       "        text-align: right;\n",
       "    }\n",
       "</style>\n",
       "<table border=\"1\" class=\"dataframe\">\n",
       "  <thead>\n",
       "    <tr style=\"text-align: right;\">\n",
       "      <th></th>\n",
       "      <th>day</th>\n",
       "      <th>month</th>\n",
       "      <th>year</th>\n",
       "      <th>Temperature</th>\n",
       "      <th>RH</th>\n",
       "      <th>Ws</th>\n",
       "      <th>Rain</th>\n",
       "      <th>FFMC</th>\n",
       "      <th>DMC</th>\n",
       "      <th>DC</th>\n",
       "      <th>ISI</th>\n",
       "      <th>BUI</th>\n",
       "      <th>FWI</th>\n",
       "      <th>Classes</th>\n",
       "      <th>Region</th>\n",
       "    </tr>\n",
       "  </thead>\n",
       "  <tbody>\n",
       "    <tr>\n",
       "      <th>0</th>\n",
       "      <td>01</td>\n",
       "      <td>06</td>\n",
       "      <td>2012</td>\n",
       "      <td>29</td>\n",
       "      <td>57</td>\n",
       "      <td>18</td>\n",
       "      <td>0</td>\n",
       "      <td>65.7</td>\n",
       "      <td>3.4</td>\n",
       "      <td>7.6</td>\n",
       "      <td>1.3</td>\n",
       "      <td>3.4</td>\n",
       "      <td>0.5</td>\n",
       "      <td>not fire</td>\n",
       "      <td>0.0</td>\n",
       "    </tr>\n",
       "    <tr>\n",
       "      <th>1</th>\n",
       "      <td>02</td>\n",
       "      <td>06</td>\n",
       "      <td>2012</td>\n",
       "      <td>29</td>\n",
       "      <td>61</td>\n",
       "      <td>13</td>\n",
       "      <td>1.3</td>\n",
       "      <td>64.4</td>\n",
       "      <td>4.1</td>\n",
       "      <td>7.6</td>\n",
       "      <td>1</td>\n",
       "      <td>3.9</td>\n",
       "      <td>0.4</td>\n",
       "      <td>not fire</td>\n",
       "      <td>0.0</td>\n",
       "    </tr>\n",
       "    <tr>\n",
       "      <th>2</th>\n",
       "      <td>03</td>\n",
       "      <td>06</td>\n",
       "      <td>2012</td>\n",
       "      <td>26</td>\n",
       "      <td>82</td>\n",
       "      <td>22</td>\n",
       "      <td>13.1</td>\n",
       "      <td>47.1</td>\n",
       "      <td>2.5</td>\n",
       "      <td>7.1</td>\n",
       "      <td>0.3</td>\n",
       "      <td>2.7</td>\n",
       "      <td>0.1</td>\n",
       "      <td>not fire</td>\n",
       "      <td>0.0</td>\n",
       "    </tr>\n",
       "    <tr>\n",
       "      <th>3</th>\n",
       "      <td>04</td>\n",
       "      <td>06</td>\n",
       "      <td>2012</td>\n",
       "      <td>25</td>\n",
       "      <td>89</td>\n",
       "      <td>13</td>\n",
       "      <td>2.5</td>\n",
       "      <td>28.6</td>\n",
       "      <td>1.3</td>\n",
       "      <td>6.9</td>\n",
       "      <td>0</td>\n",
       "      <td>1.7</td>\n",
       "      <td>0</td>\n",
       "      <td>not fire</td>\n",
       "      <td>0.0</td>\n",
       "    </tr>\n",
       "    <tr>\n",
       "      <th>4</th>\n",
       "      <td>05</td>\n",
       "      <td>06</td>\n",
       "      <td>2012</td>\n",
       "      <td>27</td>\n",
       "      <td>77</td>\n",
       "      <td>16</td>\n",
       "      <td>0</td>\n",
       "      <td>64.8</td>\n",
       "      <td>3</td>\n",
       "      <td>14.2</td>\n",
       "      <td>1.2</td>\n",
       "      <td>3.9</td>\n",
       "      <td>0.5</td>\n",
       "      <td>not fire</td>\n",
       "      <td>0.0</td>\n",
       "    </tr>\n",
       "  </tbody>\n",
       "</table>\n",
       "</div>"
      ]
     },
     "execution_count": 12,
     "metadata": {},
     "output_type": "execute_result"
    }
   ],
   "execution_count": 12
  },
  {
   "metadata": {
    "ExecuteTime": {
     "end_time": "2024-11-12T17:54:03.768859Z",
     "start_time": "2024-11-12T17:54:03.747595Z"
    }
   },
   "cell_type": "code",
   "source": [
    "## Statistical Analysis\n",
    "df.info()"
   ],
   "id": "3240aabf5d43c40f",
   "outputs": [
    {
     "name": "stdout",
     "output_type": "stream",
     "text": [
      "<class 'pandas.core.frame.DataFrame'>\n",
      "RangeIndex: 243 entries, 0 to 242\n",
      "Data columns (total 15 columns):\n",
      " #   Column       Non-Null Count  Dtype  \n",
      "---  ------       --------------  -----  \n",
      " 0   day          243 non-null    object \n",
      " 1   month        243 non-null    object \n",
      " 2   year         243 non-null    object \n",
      " 3   Temperature  243 non-null    object \n",
      " 4   RH           243 non-null    object \n",
      " 5   Ws           243 non-null    object \n",
      " 6   Rain         243 non-null    object \n",
      " 7   FFMC         243 non-null    object \n",
      " 8   DMC          243 non-null    object \n",
      " 9   DC           243 non-null    object \n",
      " 10  ISI          243 non-null    object \n",
      " 11  BUI          243 non-null    object \n",
      " 12  FWI          243 non-null    object \n",
      " 13  Classes      243 non-null    object \n",
      " 14  Region       243 non-null    float64\n",
      "dtypes: float64(1), object(14)\n",
      "memory usage: 28.6+ KB\n"
     ]
    }
   ],
   "execution_count": 13
  },
  {
   "metadata": {
    "ExecuteTime": {
     "end_time": "2024-11-12T17:54:04.643617Z",
     "start_time": "2024-11-12T17:54:04.639765Z"
    }
   },
   "cell_type": "code",
   "source": [
    "## Observation -> All Values should be converted to int/float for Model Training\n",
    "df['Region'] = df['Region'].astype(int)"
   ],
   "id": "b99eec8a2b757960",
   "outputs": [],
   "execution_count": 14
  },
  {
   "metadata": {
    "ExecuteTime": {
     "end_time": "2024-11-12T17:54:05.633034Z",
     "start_time": "2024-11-12T17:54:05.626496Z"
    }
   },
   "cell_type": "code",
   "source": [
    "#No need of Day, Month and Year. Therefore, drop those columns\n",
    "df.drop(['day','month','year'],axis=1,inplace=True)"
   ],
   "id": "fdd92e8318f2ec7a",
   "outputs": [],
   "execution_count": 15
  },
  {
   "metadata": {
    "ExecuteTime": {
     "end_time": "2024-11-12T17:54:06.299663Z",
     "start_time": "2024-11-12T17:54:06.280733Z"
    }
   },
   "cell_type": "code",
   "source": [
    "conversion_list = []\n",
    "for col in df.columns:\n",
    "    if df[col].dtypes == 'object':\n",
    "        conversion_list.append(col)"
   ],
   "id": "2ccd5670005d2f7d",
   "outputs": [],
   "execution_count": 16
  },
  {
   "metadata": {
    "ExecuteTime": {
     "end_time": "2024-11-12T17:54:07.044682Z",
     "start_time": "2024-11-12T17:54:07.034952Z"
    }
   },
   "cell_type": "code",
   "source": [
    "for cols in conversion_list:\n",
    "    if cols != \"Classes\":\n",
    "        df[cols] = df[cols].astype(float)"
   ],
   "id": "a7efb95a3bdd55b9",
   "outputs": [],
   "execution_count": 17
  },
  {
   "metadata": {
    "ExecuteTime": {
     "end_time": "2024-11-12T17:54:07.904262Z",
     "start_time": "2024-11-12T17:54:07.878274Z"
    }
   },
   "cell_type": "code",
   "source": "df.info()",
   "id": "7a5393fe578c83ad",
   "outputs": [
    {
     "name": "stdout",
     "output_type": "stream",
     "text": [
      "<class 'pandas.core.frame.DataFrame'>\n",
      "RangeIndex: 243 entries, 0 to 242\n",
      "Data columns (total 12 columns):\n",
      " #   Column       Non-Null Count  Dtype  \n",
      "---  ------       --------------  -----  \n",
      " 0   Temperature  243 non-null    float64\n",
      " 1   RH           243 non-null    float64\n",
      " 2   Ws           243 non-null    float64\n",
      " 3   Rain         243 non-null    float64\n",
      " 4   FFMC         243 non-null    float64\n",
      " 5   DMC          243 non-null    float64\n",
      " 6   DC           243 non-null    float64\n",
      " 7   ISI          243 non-null    float64\n",
      " 8   BUI          243 non-null    float64\n",
      " 9   FWI          243 non-null    float64\n",
      " 10  Classes      243 non-null    object \n",
      " 11  Region       243 non-null    int32  \n",
      "dtypes: float64(10), int32(1), object(1)\n",
      "memory usage: 22.0+ KB\n"
     ]
    }
   ],
   "execution_count": 18
  },
  {
   "metadata": {
    "ExecuteTime": {
     "end_time": "2024-11-12T17:54:09.385446Z",
     "start_time": "2024-11-12T17:54:09.377536Z"
    }
   },
   "cell_type": "code",
   "source": [
    "#Handling the \"Classes\" column\n",
    "df['Classes'].unique()\n",
    "#Observation -> There are various data of the same category which is segregated due to uneven spacing"
   ],
   "id": "62b0a729d9845ef8",
   "outputs": [
    {
     "data": {
      "text/plain": [
       "array(['not fire   ', 'fire   ', 'fire', 'fire ', 'not fire', 'not fire ',\n",
       "       'not fire     ', 'not fire    '], dtype=object)"
      ]
     },
     "execution_count": 19,
     "metadata": {},
     "output_type": "execute_result"
    }
   ],
   "execution_count": 19
  },
  {
   "metadata": {
    "ExecuteTime": {
     "end_time": "2024-11-12T17:54:10.402325Z",
     "start_time": "2024-11-12T17:54:10.388452Z"
    }
   },
   "cell_type": "code",
   "source": [
    "# Binary Encoding the \"Classes\" column\n",
    "# 0 -> Not fire\n",
    "# 1 -> Fire\n",
    "df['Classes'] = np.where(df['Classes'].str.startswith('not'),0,1)"
   ],
   "id": "95cb9c772d4cbfe0",
   "outputs": [],
   "execution_count": 20
  },
  {
   "metadata": {
    "ExecuteTime": {
     "end_time": "2024-11-12T17:54:11.230869Z",
     "start_time": "2024-11-12T17:54:11.216951Z"
    }
   },
   "cell_type": "code",
   "source": "df['Classes'].value_counts()",
   "id": "84a56704489f37a7",
   "outputs": [
    {
     "data": {
      "text/plain": [
       "Classes\n",
       "1    137\n",
       "0    106\n",
       "Name: count, dtype: int64"
      ]
     },
     "execution_count": 21,
     "metadata": {},
     "output_type": "execute_result"
    }
   ],
   "execution_count": 21
  },
  {
   "metadata": {
    "ExecuteTime": {
     "end_time": "2024-11-12T17:54:12.195495Z",
     "start_time": "2024-11-12T17:54:12.174293Z"
    }
   },
   "cell_type": "code",
   "source": [
    "# Observation -> Successfully Converted All Columns to int/float\n",
    "df.info()"
   ],
   "id": "2caa5a60d80f45cf",
   "outputs": [
    {
     "name": "stdout",
     "output_type": "stream",
     "text": [
      "<class 'pandas.core.frame.DataFrame'>\n",
      "RangeIndex: 243 entries, 0 to 242\n",
      "Data columns (total 12 columns):\n",
      " #   Column       Non-Null Count  Dtype  \n",
      "---  ------       --------------  -----  \n",
      " 0   Temperature  243 non-null    float64\n",
      " 1   RH           243 non-null    float64\n",
      " 2   Ws           243 non-null    float64\n",
      " 3   Rain         243 non-null    float64\n",
      " 4   FFMC         243 non-null    float64\n",
      " 5   DMC          243 non-null    float64\n",
      " 6   DC           243 non-null    float64\n",
      " 7   ISI          243 non-null    float64\n",
      " 8   BUI          243 non-null    float64\n",
      " 9   FWI          243 non-null    float64\n",
      " 10  Classes      243 non-null    int32  \n",
      " 11  Region       243 non-null    int32  \n",
      "dtypes: float64(10), int32(2)\n",
      "memory usage: 21.0 KB\n"
     ]
    }
   ],
   "execution_count": 22
  },
  {
   "metadata": {
    "ExecuteTime": {
     "end_time": "2024-11-12T17:54:13.054407Z",
     "start_time": "2024-11-12T17:54:13.035915Z"
    }
   },
   "cell_type": "code",
   "source": "df.to_csv('algerianforest_cleaned.csv',index=False)",
   "id": "4f85d823b19b79a2",
   "outputs": [],
   "execution_count": 23
  },
  {
   "metadata": {},
   "cell_type": "markdown",
   "source": "### __Splitting The Data for Model Training__",
   "id": "b1dc57e627357db"
  },
  {
   "metadata": {
    "ExecuteTime": {
     "end_time": "2024-11-12T17:54:16.313485Z",
     "start_time": "2024-11-12T17:54:16.296560Z"
    }
   },
   "cell_type": "code",
   "source": [
    "# Dependent Feature -> FWI\n",
    "# Independent Feature -> Rest of Columns\n",
    "X = df.drop('FWI',axis=1)\n",
    "y = df['FWI']"
   ],
   "id": "6277ec88c66e673d",
   "outputs": [],
   "execution_count": 24
  },
  {
   "metadata": {
    "ExecuteTime": {
     "end_time": "2024-11-12T17:54:17.290971Z",
     "start_time": "2024-11-12T17:54:16.909214Z"
    }
   },
   "cell_type": "code",
   "source": [
    "from sklearn.model_selection import train_test_split\n",
    "X_train, X_test, y_train, y_test = train_test_split(X, y, test_size=0.2, random_state=0)"
   ],
   "id": "85fc418f824dadb6",
   "outputs": [],
   "execution_count": 25
  },
  {
   "metadata": {},
   "cell_type": "markdown",
   "source": "### __Checking For Correlation and Multi collinearity__",
   "id": "aaf0f46fe0506fd0"
  },
  {
   "metadata": {
    "ExecuteTime": {
     "end_time": "2024-11-12T17:54:18.746626Z",
     "start_time": "2024-11-12T17:54:18.733736Z"
    }
   },
   "cell_type": "code",
   "source": "X_train.shape,X_test.shape",
   "id": "b4e1b3dbe8e7a4cb",
   "outputs": [
    {
     "data": {
      "text/plain": [
       "((194, 11), (49, 11))"
      ]
     },
     "execution_count": 26,
     "metadata": {},
     "output_type": "execute_result"
    }
   ],
   "execution_count": 26
  },
  {
   "metadata": {
    "ExecuteTime": {
     "end_time": "2024-11-12T17:54:19.514416Z",
     "start_time": "2024-11-12T17:54:19.486437Z"
    }
   },
   "cell_type": "code",
   "source": "X_train.corr()",
   "id": "502e1b7575e8e138",
   "outputs": [
    {
     "data": {
      "text/plain": [
       "             Temperature        RH        Ws      Rain      FFMC       DMC  \\\n",
       "Temperature     1.000000 -0.666832 -0.363524 -0.353372  0.684186  0.485272   \n",
       "RH             -0.666832  1.000000  0.268542  0.252659 -0.639914 -0.400913   \n",
       "Ws             -0.363524  0.268542  1.000000  0.219551 -0.238520 -0.026332   \n",
       "Rain           -0.353372  0.252659  0.219551  1.000000 -0.588079 -0.300879   \n",
       "FFMC            0.684186 -0.639914 -0.238520 -0.588079  1.000000  0.610152   \n",
       "DMC             0.485272 -0.400913 -0.026332 -0.300879  0.610152  1.000000   \n",
       "DC              0.344520 -0.206873  0.057709 -0.306149  0.511148  0.884202   \n",
       "ISI             0.610784 -0.700103 -0.025648 -0.351447  0.736174  0.673975   \n",
       "BUI             0.447509 -0.340127  0.008292 -0.310650  0.596990  0.982542   \n",
       "Classes         0.497727 -0.431097 -0.106459 -0.377688  0.765968  0.592269   \n",
       "Region          0.316034 -0.442337 -0.188898 -0.076930  0.275874  0.194039   \n",
       "\n",
       "                   DC       ISI       BUI   Classes    Region  \n",
       "Temperature  0.344520  0.610784  0.447509  0.497727  0.316034  \n",
       "RH          -0.206873 -0.700103 -0.340127 -0.431097 -0.442337  \n",
       "Ws           0.057709 -0.025648  0.008292 -0.106459 -0.188898  \n",
       "Rain        -0.306149 -0.351447 -0.310650 -0.377688 -0.076930  \n",
       "FFMC         0.511148  0.736174  0.596990  0.765968  0.275874  \n",
       "DMC          0.884202  0.673975  0.982542  0.592269  0.194039  \n",
       "DC           1.000000  0.489671  0.945585  0.513694 -0.060157  \n",
       "ISI          0.489671  1.000000  0.632169  0.732387  0.313642  \n",
       "BUI          0.945585  0.632169  1.000000  0.593063  0.094501  \n",
       "Classes      0.513694  0.732387  0.593063  1.000000  0.209882  \n",
       "Region      -0.060157  0.313642  0.094501  0.209882  1.000000  "
      ],
      "text/html": [
       "<div>\n",
       "<style scoped>\n",
       "    .dataframe tbody tr th:only-of-type {\n",
       "        vertical-align: middle;\n",
       "    }\n",
       "\n",
       "    .dataframe tbody tr th {\n",
       "        vertical-align: top;\n",
       "    }\n",
       "\n",
       "    .dataframe thead th {\n",
       "        text-align: right;\n",
       "    }\n",
       "</style>\n",
       "<table border=\"1\" class=\"dataframe\">\n",
       "  <thead>\n",
       "    <tr style=\"text-align: right;\">\n",
       "      <th></th>\n",
       "      <th>Temperature</th>\n",
       "      <th>RH</th>\n",
       "      <th>Ws</th>\n",
       "      <th>Rain</th>\n",
       "      <th>FFMC</th>\n",
       "      <th>DMC</th>\n",
       "      <th>DC</th>\n",
       "      <th>ISI</th>\n",
       "      <th>BUI</th>\n",
       "      <th>Classes</th>\n",
       "      <th>Region</th>\n",
       "    </tr>\n",
       "  </thead>\n",
       "  <tbody>\n",
       "    <tr>\n",
       "      <th>Temperature</th>\n",
       "      <td>1.000000</td>\n",
       "      <td>-0.666832</td>\n",
       "      <td>-0.363524</td>\n",
       "      <td>-0.353372</td>\n",
       "      <td>0.684186</td>\n",
       "      <td>0.485272</td>\n",
       "      <td>0.344520</td>\n",
       "      <td>0.610784</td>\n",
       "      <td>0.447509</td>\n",
       "      <td>0.497727</td>\n",
       "      <td>0.316034</td>\n",
       "    </tr>\n",
       "    <tr>\n",
       "      <th>RH</th>\n",
       "      <td>-0.666832</td>\n",
       "      <td>1.000000</td>\n",
       "      <td>0.268542</td>\n",
       "      <td>0.252659</td>\n",
       "      <td>-0.639914</td>\n",
       "      <td>-0.400913</td>\n",
       "      <td>-0.206873</td>\n",
       "      <td>-0.700103</td>\n",
       "      <td>-0.340127</td>\n",
       "      <td>-0.431097</td>\n",
       "      <td>-0.442337</td>\n",
       "    </tr>\n",
       "    <tr>\n",
       "      <th>Ws</th>\n",
       "      <td>-0.363524</td>\n",
       "      <td>0.268542</td>\n",
       "      <td>1.000000</td>\n",
       "      <td>0.219551</td>\n",
       "      <td>-0.238520</td>\n",
       "      <td>-0.026332</td>\n",
       "      <td>0.057709</td>\n",
       "      <td>-0.025648</td>\n",
       "      <td>0.008292</td>\n",
       "      <td>-0.106459</td>\n",
       "      <td>-0.188898</td>\n",
       "    </tr>\n",
       "    <tr>\n",
       "      <th>Rain</th>\n",
       "      <td>-0.353372</td>\n",
       "      <td>0.252659</td>\n",
       "      <td>0.219551</td>\n",
       "      <td>1.000000</td>\n",
       "      <td>-0.588079</td>\n",
       "      <td>-0.300879</td>\n",
       "      <td>-0.306149</td>\n",
       "      <td>-0.351447</td>\n",
       "      <td>-0.310650</td>\n",
       "      <td>-0.377688</td>\n",
       "      <td>-0.076930</td>\n",
       "    </tr>\n",
       "    <tr>\n",
       "      <th>FFMC</th>\n",
       "      <td>0.684186</td>\n",
       "      <td>-0.639914</td>\n",
       "      <td>-0.238520</td>\n",
       "      <td>-0.588079</td>\n",
       "      <td>1.000000</td>\n",
       "      <td>0.610152</td>\n",
       "      <td>0.511148</td>\n",
       "      <td>0.736174</td>\n",
       "      <td>0.596990</td>\n",
       "      <td>0.765968</td>\n",
       "      <td>0.275874</td>\n",
       "    </tr>\n",
       "    <tr>\n",
       "      <th>DMC</th>\n",
       "      <td>0.485272</td>\n",
       "      <td>-0.400913</td>\n",
       "      <td>-0.026332</td>\n",
       "      <td>-0.300879</td>\n",
       "      <td>0.610152</td>\n",
       "      <td>1.000000</td>\n",
       "      <td>0.884202</td>\n",
       "      <td>0.673975</td>\n",
       "      <td>0.982542</td>\n",
       "      <td>0.592269</td>\n",
       "      <td>0.194039</td>\n",
       "    </tr>\n",
       "    <tr>\n",
       "      <th>DC</th>\n",
       "      <td>0.344520</td>\n",
       "      <td>-0.206873</td>\n",
       "      <td>0.057709</td>\n",
       "      <td>-0.306149</td>\n",
       "      <td>0.511148</td>\n",
       "      <td>0.884202</td>\n",
       "      <td>1.000000</td>\n",
       "      <td>0.489671</td>\n",
       "      <td>0.945585</td>\n",
       "      <td>0.513694</td>\n",
       "      <td>-0.060157</td>\n",
       "    </tr>\n",
       "    <tr>\n",
       "      <th>ISI</th>\n",
       "      <td>0.610784</td>\n",
       "      <td>-0.700103</td>\n",
       "      <td>-0.025648</td>\n",
       "      <td>-0.351447</td>\n",
       "      <td>0.736174</td>\n",
       "      <td>0.673975</td>\n",
       "      <td>0.489671</td>\n",
       "      <td>1.000000</td>\n",
       "      <td>0.632169</td>\n",
       "      <td>0.732387</td>\n",
       "      <td>0.313642</td>\n",
       "    </tr>\n",
       "    <tr>\n",
       "      <th>BUI</th>\n",
       "      <td>0.447509</td>\n",
       "      <td>-0.340127</td>\n",
       "      <td>0.008292</td>\n",
       "      <td>-0.310650</td>\n",
       "      <td>0.596990</td>\n",
       "      <td>0.982542</td>\n",
       "      <td>0.945585</td>\n",
       "      <td>0.632169</td>\n",
       "      <td>1.000000</td>\n",
       "      <td>0.593063</td>\n",
       "      <td>0.094501</td>\n",
       "    </tr>\n",
       "    <tr>\n",
       "      <th>Classes</th>\n",
       "      <td>0.497727</td>\n",
       "      <td>-0.431097</td>\n",
       "      <td>-0.106459</td>\n",
       "      <td>-0.377688</td>\n",
       "      <td>0.765968</td>\n",
       "      <td>0.592269</td>\n",
       "      <td>0.513694</td>\n",
       "      <td>0.732387</td>\n",
       "      <td>0.593063</td>\n",
       "      <td>1.000000</td>\n",
       "      <td>0.209882</td>\n",
       "    </tr>\n",
       "    <tr>\n",
       "      <th>Region</th>\n",
       "      <td>0.316034</td>\n",
       "      <td>-0.442337</td>\n",
       "      <td>-0.188898</td>\n",
       "      <td>-0.076930</td>\n",
       "      <td>0.275874</td>\n",
       "      <td>0.194039</td>\n",
       "      <td>-0.060157</td>\n",
       "      <td>0.313642</td>\n",
       "      <td>0.094501</td>\n",
       "      <td>0.209882</td>\n",
       "      <td>1.000000</td>\n",
       "    </tr>\n",
       "  </tbody>\n",
       "</table>\n",
       "</div>"
      ]
     },
     "execution_count": 27,
     "metadata": {},
     "output_type": "execute_result"
    }
   ],
   "execution_count": 27
  },
  {
   "metadata": {
    "ExecuteTime": {
     "end_time": "2024-11-12T17:54:20.697383Z",
     "start_time": "2024-11-12T17:54:20.683564Z"
    }
   },
   "cell_type": "code",
   "source": [
    "def check_multi_collinearity(dataset,threshold):\n",
    "    corr_col = set()\n",
    "    col_matrix = dataset.corr()\n",
    "    for i in range(len(col_matrix.columns)):\n",
    "        for j in range(i):\n",
    "            if abs(col_matrix.iloc[i, j]) > threshold:\n",
    "                colname = col_matrix.columns[i]\n",
    "                corr_col.add(colname)\n",
    "    return corr_col"
   ],
   "id": "344f803144c7bd2d",
   "outputs": [],
   "execution_count": 28
  },
  {
   "metadata": {
    "ExecuteTime": {
     "end_time": "2024-11-12T17:54:21.752438Z",
     "start_time": "2024-11-12T17:54:21.744251Z"
    }
   },
   "cell_type": "code",
   "source": [
    "# Setting the Threshold i.e the Correlation percent to 0.85\n",
    "col = check_multi_collinearity(X_train,0.85)"
   ],
   "id": "6fedbf5cc1c7fa26",
   "outputs": [],
   "execution_count": 29
  },
  {
   "metadata": {
    "ExecuteTime": {
     "end_time": "2024-11-12T17:54:22.493569Z",
     "start_time": "2024-11-12T17:54:22.483638Z"
    }
   },
   "cell_type": "code",
   "source": [
    "# Removing those columns\n",
    "X_train.drop(col,axis=1,inplace=True)\n",
    "X_test.drop(col,axis=1,inplace=True)"
   ],
   "id": "809700eb8aba87f6",
   "outputs": [],
   "execution_count": 30
  },
  {
   "metadata": {
    "ExecuteTime": {
     "end_time": "2024-11-12T17:54:23.270891Z",
     "start_time": "2024-11-12T17:54:23.252738Z"
    }
   },
   "cell_type": "code",
   "source": "X_train.shape,X_test.shape",
   "id": "907ef40bf42b0dd0",
   "outputs": [
    {
     "data": {
      "text/plain": [
       "((194, 9), (49, 9))"
      ]
     },
     "execution_count": 31,
     "metadata": {},
     "output_type": "execute_result"
    }
   ],
   "execution_count": 31
  },
  {
   "metadata": {},
   "cell_type": "markdown",
   "source": "### __Standardization__",
   "id": "1c243079cc2bcd86"
  },
  {
   "metadata": {
    "ExecuteTime": {
     "end_time": "2024-11-12T17:54:25.060425Z",
     "start_time": "2024-11-12T17:54:25.033032Z"
    }
   },
   "cell_type": "code",
   "source": [
    "from sklearn.preprocessing import StandardScaler\n",
    "scaler = StandardScaler()\n",
    "x_train_scaled = scaler.fit_transform(X_train)\n",
    "x_test_scaled = scaler.transform(X_test)"
   ],
   "id": "42e55ee70ac33f57",
   "outputs": [],
   "execution_count": 32
  },
  {
   "metadata": {
    "ExecuteTime": {
     "end_time": "2024-11-12T17:54:25.932384Z",
     "start_time": "2024-11-12T17:54:25.737899Z"
    }
   },
   "cell_type": "code",
   "source": [
    "sns.boxplot(X_train)\n",
    "plt.title('Before Standardization')\n",
    "plt.show()"
   ],
   "id": "bea37e980e9ede5d",
   "outputs": [
    {
     "data": {
      "text/plain": [
       "<Figure size 640x480 with 1 Axes>"
      ],
      "image/png": "[encoded data removed]"
     },
     "metadata": {},
     "output_type": "display_data"
    }
   ],
   "execution_count": 33
  },
  {
   "metadata": {
    "ExecuteTime": {
     "end_time": "2024-11-12T17:54:27.131019Z",
     "start_time": "2024-11-12T17:54:26.967432Z"
    }
   },
   "cell_type": "code",
   "source": [
    "sns.boxplot(x_test_scaled)\n",
    "plt.title(\"After Standardization\")\n",
    "plt.show()"
   ],
   "id": "cf98cb3f40af26a",
   "outputs": [
    {
     "data": {
      "text/plain": [
       "<Figure size 640x480 with 1 Axes>"
      ],
      "image/png": "[encoded data removed]"
     },
     "metadata": {},
     "output_type": "display_data"
    }
   ],
   "execution_count": 34
  },
  {
   "metadata": {},
   "cell_type": "markdown",
   "source": "### __Model Training Using Multi Linear Regression__",
   "id": "7fff42535b318134"
  },
  {
   "metadata": {
    "ExecuteTime": {
     "end_time": "2024-11-12T17:54:29.998117Z",
     "start_time": "2024-11-12T17:54:29.252246Z"
    }
   },
   "cell_type": "code",
   "source": [
    "#Implementing Linear Regression\n",
    "from sklearn.linear_model import LinearRegression\n",
    "from sklearn.metrics import r2_score,mean_absolute_error\n",
    "linreg = LinearRegression()\n",
    "linreg.fit(x_train_scaled,y_train)\n",
    "y_pred_l = linreg.predict(x_test_scaled)\n",
    "mae = mean_absolute_error(y_test,y_pred_l)\n",
    "r2= r2_score(y_test,y_pred_l) * 100\n",
    "print(mae)\n",
    "print(r2)\n",
    "plt.figure(figsize=(5,5))\n",
    "plt.subplot(1,1,1)\n",
    "plt.scatter(y_test,y_pred_l)\n",
    "plt.show()\n",
    "\n",
    "residuals = y_test - y_pred_l\n",
    "plt.figure(figsize=(5,5))\n",
    "plt.subplot(2,1,2)\n",
    "sns.kdeplot(residuals)\n",
    "plt.show()\n",
    "\n",
    "plt.figure(figsize=(5,5))\n",
    "plt.subplot(3,1,3)\n",
    "plt.scatter(y_test,residuals)\n",
    "\n",
    "\n",
    "####Assumptions####\n",
    "#Linear Graph -> Model is doing well\n",
    "\n",
    "\n",
    "#Probably Overfitting due to high accuracy\n",
    "#Using L1/L2 Regularization to fix overfitting\n"
   ],
   "id": "e5bada20e99b5a7",
   "outputs": [
    {
     "name": "stdout",
     "output_type": "stream",
     "text": [
      "0.6700307048370672\n",
      "97.73899683550064\n"
     ]
    },
    {
     "data": {
      "text/plain": [
       "<Figure size 500x500 with 1 Axes>"
      ],
      "image/png": "[encoded data removed]"
     },
     "metadata": {},
     "output_type": "display_data"
    },
    {
     "name": "stderr",
     "output_type": "stream",
     "text": [
      "C:\\Users\\Hp\\anaconda3\\Lib\\site-packages\\seaborn\\_oldcore.py:1119: FutureWarning: use_inf_as_na option is deprecated and will be removed in a future version. Convert inf values to NaN before operating instead.\n",
      "  with pd.option_context('mode.use_inf_as_na', True):\n"
     ]
    },
    {
     "data": {
      "text/plain": [
       "<Figure size 500x500 with 1 Axes>"
      ],
      "image/png": "[encoded data removed]"
     },
     "metadata": {},
     "output_type": "display_data"
    },
    {
     "data": {
      "text/plain": [
       "<matplotlib.collections.PathCollection at 0x12a64e85fd0>"
      ]
     },
     "execution_count": 35,
     "metadata": {},
     "output_type": "execute_result"
    },
    {
     "data": {
      "text/plain": [
       "<Figure size 500x500 with 1 Axes>"
      ],
      "image/png": "[encoded data removed]"
     },
     "metadata": {},
     "output_type": "display_data"
    }
   ],
   "execution_count": 35
  },
  {
   "metadata": {},
   "cell_type": "markdown",
   "source": "###  __Model Training using Ridge Regression / L2 Regularization__",
   "id": "ae4fe193d0938462"
  },
  {
   "metadata": {
    "ExecuteTime": {
     "end_time": "2024-11-12T17:54:32.602064Z",
     "start_time": "2024-11-12T17:54:32.262186Z"
    }
   },
   "cell_type": "code",
   "source": [
    "from sklearn.linear_model import Ridge\n",
    "from sklearn.metrics import r2_score,mean_absolute_error\n",
    "ridgereg = Ridge()\n",
    "ridgereg.fit(x_train_scaled,y_train)\n",
    "y_pred_r = ridgereg.predict(x_test_scaled)\n",
    "mae = mean_absolute_error(y_test,y_pred_r)\n",
    "r2= r2_score(y_test,y_pred_r) * 100\n",
    "print(mae)\n",
    "print(r2)\n",
    "\n",
    "plt.figure(figsize=(5,5))\n",
    "plt.subplot(1,1,1)\n",
    "plt.scatter(y_test,y_pred_r)\n",
    "plt.show()\n",
    "\n",
    "residuals = y_test - y_pred_r\n",
    "plt.subplot(2,1,2)\n",
    "sns.kdeplot(residuals)\n",
    "plt.show()\n",
    "\n",
    "plt.subplot(3,1,3)\n",
    "plt.scatter(y_test,residuals)\n"
   ],
   "id": "40df831bb0bd80d6",
   "outputs": [
    {
     "name": "stdout",
     "output_type": "stream",
     "text": [
      "0.6905345455834934\n",
      "97.66228010748004\n"
     ]
    },
    {
     "data": {
      "text/plain": [
       "<Figure size 500x500 with 1 Axes>"
      ],
      "image/png": "[encoded data removed]"
     },
     "metadata": {},
     "output_type": "display_data"
    },
    {
     "name": "stderr",
     "output_type": "stream",
     "text": [
      "C:\\Users\\Hp\\anaconda3\\Lib\\site-packages\\seaborn\\_oldcore.py:1119: FutureWarning: use_inf_as_na option is deprecated and will be removed in a future version. Convert inf values to NaN before operating instead.\n",
      "  with pd.option_context('mode.use_inf_as_na', True):\n"
     ]
    },
    {
     "data": {
      "text/plain": [
       "<Figure size 640x480 with 1 Axes>"
      ],
      "image/png": "[encoded data removed]"
     },
     "metadata": {},
     "output_type": "display_data"
    },
    {
     "data": {
      "text/plain": [
       "<matplotlib.collections.PathCollection at 0x12a678e3450>"
      ]
     },
     "execution_count": 36,
     "metadata": {},
     "output_type": "execute_result"
    },
    {
     "data": {
      "text/plain": [
       "<Figure size 640x480 with 1 Axes>"
      ],
      "image/png": "[encoded data removed]"
     },
     "metadata": {},
     "output_type": "display_data"
    }
   ],
   "execution_count": 36
  },
  {
   "metadata": {},
   "cell_type": "markdown",
   "source": "### __Ridge Regression Cross Validation__",
   "id": "2741cd10e77edb06"
  },
  {
   "metadata": {
    "ExecuteTime": {
     "end_time": "2024-11-12T17:54:34.919811Z",
     "start_time": "2024-11-12T17:54:34.128604Z"
    }
   },
   "cell_type": "code",
   "source": [
    "from sklearn.linear_model import RidgeCV\n",
    "from sklearn.metrics import r2_score,mean_absolute_error\n",
    "ridgecv = RidgeCV(cv=5)\n",
    "ridgecv.fit(x_train_scaled,y_train)\n",
    "y_pred_r_cv = ridgecv.predict(x_test_scaled)\n",
    "mae = mean_absolute_error(y_test,y_pred_r_cv)\n",
    "r2= r2_score(y_test,y_pred_r_cv) * 100\n",
    "print(mae)\n",
    "print(r2)\n",
    "\n",
    "plt.figure(figsize=(5,5))\n",
    "plt.subplot(1,1,1)\n",
    "plt.scatter(y_test,y_pred_r_cv)\n",
    "plt.show()\n",
    "\n",
    "residuals = y_test - y_pred_r_cv\n",
    "plt.subplot(2,1,2)\n",
    "sns.kdeplot(residuals)\n",
    "plt.show()\n",
    "\n",
    "plt.subplot(3,1,3)\n",
    "plt.scatter(y_test,residuals)"
   ],
   "id": "f634aa1ea148e19b",
   "outputs": [
    {
     "name": "stdout",
     "output_type": "stream",
     "text": [
      "0.8714379868451502\n",
      "96.77330008807273\n"
     ]
    },
    {
     "data": {
      "text/plain": [
       "<Figure size 500x500 with 1 Axes>"
      ],
      "image/png": "[encoded data removed]"
     },
     "metadata": {},
     "output_type": "display_data"
    },
    {
     "name": "stderr",
     "output_type": "stream",
     "text": [
      "C:\\Users\\Hp\\anaconda3\\Lib\\site-packages\\seaborn\\_oldcore.py:1119: FutureWarning: use_inf_as_na option is deprecated and will be removed in a future version. Convert inf values to NaN before operating instead.\n",
      "  with pd.option_context('mode.use_inf_as_na', True):\n"
     ]
    },
    {
     "data": {
      "text/plain": [
       "<Figure size 640x480 with 1 Axes>"
      ],
      "image/png": "[encoded data removed]"
     },
     "metadata": {},
     "output_type": "display_data"
    },
    {
     "data": {
      "text/plain": [
       "<matplotlib.collections.PathCollection at 0x12a64de87d0>"
      ]
     },
     "execution_count": 37,
     "metadata": {},
     "output_type": "execute_result"
    },
    {
     "data": {
      "text/plain": [
       "<Figure size 640x480 with 1 Axes>"
      ],
      "image/png": "[encoded data removed]"
     },
     "metadata": {},
     "output_type": "display_data"
    }
   ],
   "execution_count": 37
  },
  {
   "metadata": {},
   "cell_type": "markdown",
   "source": "### __Model Training Using Lasso Regression / L1 Regularization__",
   "id": "8607adc8b6308cf5"
  },
  {
   "metadata": {
    "ExecuteTime": {
     "end_time": "2024-11-12T17:54:37.204325Z",
     "start_time": "2024-11-12T17:54:36.799693Z"
    }
   },
   "cell_type": "code",
   "source": [
    "#Lasso Regression\n",
    "from sklearn.linear_model import Lasso\n",
    "from sklearn.metrics import r2_score,mean_absolute_error\n",
    "lassoreg = Lasso()\n",
    "lassoreg.fit(x_train_scaled,y_train)\n",
    "y_pred_la = lassoreg.predict(x_test_scaled)\n",
    "mae = mean_absolute_error(y_test,y_pred_la)\n",
    "r2= r2_score(y_test,y_pred_la) * 100\n",
    "print(mae)\n",
    "print(r2)\n",
    "\n",
    "plt.figure(figsize=(5,5))\n",
    "plt.subplot(1,1,1)\n",
    "plt.scatter(y_test,y_pred_la)\n",
    "plt.show()\n",
    "\n",
    "residuals = y_test - y_pred_la\n",
    "plt.subplot(2,1,2)\n",
    "sns.kdeplot(residuals)\n",
    "plt.show()\n",
    "\n",
    "plt.subplot(3,1,3)\n",
    "plt.scatter(y_test,residuals)\n"
   ],
   "id": "e03287abe28de919",
   "outputs": [
    {
     "name": "stdout",
     "output_type": "stream",
     "text": [
      "1.1144861330607514\n",
      "94.33416904087942\n"
     ]
    },
    {
     "data": {
      "text/plain": [
       "<Figure size 500x500 with 1 Axes>"
      ],
      "image/png": "[encoded data removed]"
     },
     "metadata": {},
     "output_type": "display_data"
    },
    {
     "name": "stderr",
     "output_type": "stream",
     "text": [
      "C:\\Users\\Hp\\anaconda3\\Lib\\site-packages\\seaborn\\_oldcore.py:1119: FutureWarning: use_inf_as_na option is deprecated and will be removed in a future version. Convert inf values to NaN before operating instead.\n",
      "  with pd.option_context('mode.use_inf_as_na', True):\n"
     ]
    },
    {
     "data": {
      "text/plain": [
       "<Figure size 640x480 with 1 Axes>"
      ],
      "image/png": "[encoded data removed]"
     },
     "metadata": {},
     "output_type": "display_data"
    },
    {
     "data": {
      "text/plain": [
       "<matplotlib.collections.PathCollection at 0x12a61429790>"
      ]
     },
     "execution_count": 38,
     "metadata": {},
     "output_type": "execute_result"
    },
    {
     "data": {
      "text/plain": [
       "<Figure size 640x480 with 1 Axes>"
      ],
      "image/png": "[encoded data removed]"
     },
     "metadata": {},
     "output_type": "display_data"
    }
   ],
   "execution_count": 38
  },
  {
   "metadata": {},
   "cell_type": "markdown",
   "source": "### __Lasso Regression Cross Validation__\n",
   "id": "338da980bd0349c"
  },
  {
   "metadata": {
    "ExecuteTime": {
     "end_time": "2024-11-12T17:54:39.349190Z",
     "start_time": "2024-11-12T17:54:38.892595Z"
    }
   },
   "cell_type": "code",
   "source": [
    "from sklearn.linear_model import LassoCV\n",
    "from sklearn.metrics import r2_score,mean_absolute_error\n",
    "lassocv = LassoCV(cv=5)\n",
    "lassocv.fit(x_train_scaled,y_train)\n",
    "y_pred_la_cv = lassocv.predict(x_test_scaled)\n",
    "mae = mean_absolute_error(y_test,y_pred_la_cv)\n",
    "r2= r2_score(y_test,y_pred_la_cv) * 100\n",
    "print(mae)\n",
    "print(r2)\n",
    "\n",
    "plt.figure(figsize=(5,5))\n",
    "plt.subplot(1,1,1)\n",
    "plt.scatter(y_test,y_pred_la_cv)\n",
    "plt.show()\n",
    "\n",
    "residuals = y_test - y_pred_la_cv\n",
    "plt.subplot(2,1,2)\n",
    "sns.kdeplot(residuals)\n",
    "plt.show()\n",
    "\n",
    "plt.subplot(3,1,3)\n",
    "plt.scatter(y_test,residuals)"
   ],
   "id": "2b0121caac34d1d",
   "outputs": [
    {
     "name": "stdout",
     "output_type": "stream",
     "text": [
      "0.6596236862193228\n",
      "97.74306736468266\n"
     ]
    },
    {
     "data": {
      "text/plain": [
       "<Figure size 500x500 with 1 Axes>"
      ],
      "image/png": "[encoded data removed]"
     },
     "metadata": {},
     "output_type": "display_data"
    },
    {
     "name": "stderr",
     "output_type": "stream",
     "text": [
      "C:\\Users\\Hp\\anaconda3\\Lib\\site-packages\\seaborn\\_oldcore.py:1119: FutureWarning: use_inf_as_na option is deprecated and will be removed in a future version. Convert inf values to NaN before operating instead.\n",
      "  with pd.option_context('mode.use_inf_as_na', True):\n"
     ]
    },
    {
     "data": {
      "text/plain": [
       "<Figure size 640x480 with 1 Axes>"
      ],
      "image/png": "[encoded data removed]"
     },
     "metadata": {},
     "output_type": "display_data"
    },
    {
     "data": {
      "text/plain": [
       "<matplotlib.collections.PathCollection at 0x12a679259d0>"
      ]
     },
     "execution_count": 39,
     "metadata": {},
     "output_type": "execute_result"
    },
    {
     "data": {
      "text/plain": [
       "<Figure size 640x480 with 1 Axes>"
      ],
      "image/png": "[encoded data removed]"
     },
     "metadata": {},
     "output_type": "display_data"
    }
   ],
   "execution_count": 39
  },
  {
   "metadata": {},
   "cell_type": "markdown",
   "source": "### __Model Training Using ELasticNet i.e L1 and L2 Regularization__",
   "id": "9e248abbf7f9dc0"
  },
  {
   "metadata": {
    "ExecuteTime": {
     "end_time": "2024-11-12T17:54:42.386927Z",
     "start_time": "2024-11-12T17:54:41.717953Z"
    }
   },
   "cell_type": "code",
   "source": [
    "from sklearn.linear_model import ElasticNet\n",
    "from sklearn.metrics import r2_score,mean_absolute_error\n",
    "elasticnet = ElasticNet()\n",
    "elasticnet.fit(x_train_scaled,y_train)\n",
    "y_pred_e = elasticnet.predict(x_test_scaled)\n",
    "mae = mean_absolute_error(y_test,y_pred_e)\n",
    "r2= r2_score(y_test,y_pred_e) * 100\n",
    "print(mae)\n",
    "print(r2)\n",
    "\n",
    "plt.figure(figsize=(5,5))\n",
    "plt.subplot(1,1,1)\n",
    "plt.scatter(y_test,y_pred_e)\n",
    "plt.show()\n",
    "\n",
    "residuals = y_test - y_pred_e\n",
    "plt.subplot(2,1,2)\n",
    "sns.kdeplot(residuals)\n",
    "plt.show()\n",
    "\n",
    "plt.subplot(3,1,3)\n",
    "plt.scatter(y_test,residuals)\n"
   ],
   "id": "98dc2eadc43e2fa4",
   "outputs": [
    {
     "name": "stdout",
     "output_type": "stream",
     "text": [
      "1.7415526320622194\n",
      "87.77177823187074\n"
     ]
    },
    {
     "data": {
      "text/plain": [
       "<Figure size 500x500 with 1 Axes>"
      ],
      "image/png": "[encoded data removed]"
     },
     "metadata": {},
     "output_type": "display_data"
    },
    {
     "name": "stderr",
     "output_type": "stream",
     "text": [
      "C:\\Users\\Hp\\anaconda3\\Lib\\site-packages\\seaborn\\_oldcore.py:1119: FutureWarning: use_inf_as_na option is deprecated and will be removed in a future version. Convert inf values to NaN before operating instead.\n",
      "  with pd.option_context('mode.use_inf_as_na', True):\n"
     ]
    },
    {
     "data": {
      "text/plain": [
       "<Figure size 640x480 with 1 Axes>"
      ],
      "image/png": "[encoded data removed]"
     },
     "metadata": {},
     "output_type": "display_data"
    },
    {
     "data": {
      "text/plain": [
       "<matplotlib.collections.PathCollection at 0x12a67a587d0>"
      ]
     },
     "execution_count": 40,
     "metadata": {},
     "output_type": "execute_result"
    },
    {
     "data": {
      "text/plain": [
       "<Figure size 640x480 with 1 Axes>"
      ],
      "image/png": "[encoded data removed]"
     },
     "metadata": {},
     "output_type": "display_data"
    }
   ],
   "execution_count": 40
  },
  {
   "metadata": {},
   "cell_type": "markdown",
   "source": "### __ElasticNet Cross Validation__",
   "id": "12a90ae74877754"
  },
  {
   "metadata": {
    "ExecuteTime": {
     "end_time": "2024-11-12T17:54:44.464797Z",
     "start_time": "2024-11-12T17:54:44.050870Z"
    }
   },
   "cell_type": "code",
   "source": [
    "from sklearn.linear_model import ElasticNetCV\n",
    "from sklearn.metrics import r2_score,mean_absolute_error\n",
    "elasticcv = ElasticNetCV(cv=5)\n",
    "elasticcv.fit(x_train_scaled,y_train)\n",
    "y_pred_e_cv = elasticcv.predict(x_test_scaled)\n",
    "mae = mean_absolute_error(y_test,y_pred_e_cv)\n",
    "r2= r2_score(y_test,y_pred_e_cv) * 100\n",
    "print(mae)\n",
    "print(r2)\n",
    "\n",
    "plt.figure(figsize=(5,5))\n",
    "plt.subplot(1,1,1)\n",
    "plt.scatter(y_test,y_pred_e_cv)\n",
    "plt.show()\n",
    "\n",
    "residuals = y_test - y_pred_e_cv\n",
    "plt.subplot(2,1,2)\n",
    "sns.kdeplot(residuals)\n",
    "plt.show()\n",
    "\n",
    "plt.subplot(3,1,3)\n",
    "plt.scatter(y_test,residuals)"
   ],
   "id": "b6a2f944b47cfb33",
   "outputs": [
    {
     "name": "stdout",
     "output_type": "stream",
     "text": [
      "0.7609068947918349\n",
      "97.34769909970737\n"
     ]
    },
    {
     "data": {
      "text/plain": [
       "<Figure size 500x500 with 1 Axes>"
      ],
      "image/png": "[encoded data removed]"
     },
     "metadata": {},
     "output_type": "display_data"
    },
    {
     "name": "stderr",
     "output_type": "stream",
     "text": [
      "C:\\Users\\Hp\\anaconda3\\Lib\\site-packages\\seaborn\\_oldcore.py:1119: FutureWarning: use_inf_as_na option is deprecated and will be removed in a future version. Convert inf values to NaN before operating instead.\n",
      "  with pd.option_context('mode.use_inf_as_na', True):\n"
     ]
    },
    {
     "data": {
      "text/plain": [
       "<Figure size 640x480 with 1 Axes>"
      ],
      "image/png": "[encoded data removed]"
     },
     "metadata": {},
     "output_type": "display_data"
    },
    {
     "data": {
      "text/plain": [
       "<matplotlib.collections.PathCollection at 0x12a67ad07d0>"
      ]
     },
     "execution_count": 41,
     "metadata": {},
     "output_type": "execute_result"
    },
    {
     "data": {
      "text/plain": [
       "<Figure size 640x480 with 1 Axes>"
      ],
      "image/png": "[encoded data removed]"
     },
     "metadata": {},
     "output_type": "display_data"
    }
   ],
   "execution_count": 41
  },
  {
   "metadata": {},
   "cell_type": "markdown",
   "source": "### __Pickling the StandardScaler and Best Model file__",
   "id": "e9a430b15b860b8f"
  },
  {
   "metadata": {
    "ExecuteTime": {
     "end_time": "2024-11-12T15:55:24.078152Z",
     "start_time": "2024-11-12T15:55:24.069606Z"
    }
   },
   "cell_type": "code",
   "source": [
    "import pickle\n",
    "pickle.dump(scaler,open('scaler.pkl','wb'))\n",
    "pickle.dump(ridgereg,open('ridgereg.pkl','wb'))"
   ],
   "id": "5e2c358d670abd45",
   "outputs": [],
   "execution_count": 85
  }
 ],
 "metadata": {
  "kernelspec": {
   "display_name": "Python 3",
   "language": "python",
   "name": "python3"
  },
  "language_info": {
   "codemirror_mode": {
    "name": "ipython",
    "version": 2
   },
   "file_extension": ".py",
   "mimetype": "text/x-python",
   "name": "python",
   "nbconvert_exporter": "python",
   "pygments_lexer": "ipython2",
   "version": "2.7.6"
  }
 },
 "nbformat": 4,
 "nbformat_minor": 5
}
